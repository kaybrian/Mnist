{
  "nbformat": 4,
  "nbformat_minor": 0,
  "metadata": {
    "colab": {
      "provenance": [],
      "authorship_tag": "ABX9TyOhD5rHJHZeXIXKcJxA/yps",
      "include_colab_link": true
    },
    "kernelspec": {
      "name": "python3",
      "display_name": "Python 3"
    },
    "language_info": {
      "name": "python"
    },
    "widgets": {
      "application/vnd.jupyter.widget-state+json": {
        "3c961863d5e749a8bf5f38e88d275e91": {
          "model_module": "@jupyter-widgets/controls",
          "model_name": "HBoxModel",
          "model_module_version": "1.5.0",
          "state": {
            "_dom_classes": [],
            "_model_module": "@jupyter-widgets/controls",
            "_model_module_version": "1.5.0",
            "_model_name": "HBoxModel",
            "_view_count": null,
            "_view_module": "@jupyter-widgets/controls",
            "_view_module_version": "1.5.0",
            "_view_name": "HBoxView",
            "box_style": "",
            "children": [
              "IPY_MODEL_ea2fe69b398248ee8420c1564f512a9c",
              "IPY_MODEL_f93c6ae5c71a46faabed0812c88305cb",
              "IPY_MODEL_6c7e48006a16433b9e931685e11e691e"
            ],
            "layout": "IPY_MODEL_4deaa21793c1422695609c1d1999d59e"
          }
        },
        "ea2fe69b398248ee8420c1564f512a9c": {
          "model_module": "@jupyter-widgets/controls",
          "model_name": "HTMLModel",
          "model_module_version": "1.5.0",
          "state": {
            "_dom_classes": [],
            "_model_module": "@jupyter-widgets/controls",
            "_model_module_version": "1.5.0",
            "_model_name": "HTMLModel",
            "_view_count": null,
            "_view_module": "@jupyter-widgets/controls",
            "_view_module_version": "1.5.0",
            "_view_name": "HTMLView",
            "description": "",
            "description_tooltip": null,
            "layout": "IPY_MODEL_6222b91087164bda86775691fd07c786",
            "placeholder": "​",
            "style": "IPY_MODEL_2c4ad09250a448cbb646694d9377f6b4",
            "value": "Dl Completed...: 100%"
          }
        },
        "f93c6ae5c71a46faabed0812c88305cb": {
          "model_module": "@jupyter-widgets/controls",
          "model_name": "FloatProgressModel",
          "model_module_version": "1.5.0",
          "state": {
            "_dom_classes": [],
            "_model_module": "@jupyter-widgets/controls",
            "_model_module_version": "1.5.0",
            "_model_name": "FloatProgressModel",
            "_view_count": null,
            "_view_module": "@jupyter-widgets/controls",
            "_view_module_version": "1.5.0",
            "_view_name": "ProgressView",
            "bar_style": "success",
            "description": "",
            "description_tooltip": null,
            "layout": "IPY_MODEL_d76491067aed46fe9d1da58b13a46efa",
            "max": 5,
            "min": 0,
            "orientation": "horizontal",
            "style": "IPY_MODEL_0ebbd20003b745908984064713e7a53f",
            "value": 5
          }
        },
        "6c7e48006a16433b9e931685e11e691e": {
          "model_module": "@jupyter-widgets/controls",
          "model_name": "HTMLModel",
          "model_module_version": "1.5.0",
          "state": {
            "_dom_classes": [],
            "_model_module": "@jupyter-widgets/controls",
            "_model_module_version": "1.5.0",
            "_model_name": "HTMLModel",
            "_view_count": null,
            "_view_module": "@jupyter-widgets/controls",
            "_view_module_version": "1.5.0",
            "_view_name": "HTMLView",
            "description": "",
            "description_tooltip": null,
            "layout": "IPY_MODEL_a5ea2f34be9742fbb066e40661e5a582",
            "placeholder": "​",
            "style": "IPY_MODEL_abf01dd528e240eaa8838474b3e8d6cb",
            "value": " 5/5 [00:00&lt;00:00, 13.25 file/s]"
          }
        },
        "4deaa21793c1422695609c1d1999d59e": {
          "model_module": "@jupyter-widgets/base",
          "model_name": "LayoutModel",
          "model_module_version": "1.2.0",
          "state": {
            "_model_module": "@jupyter-widgets/base",
            "_model_module_version": "1.2.0",
            "_model_name": "LayoutModel",
            "_view_count": null,
            "_view_module": "@jupyter-widgets/base",
            "_view_module_version": "1.2.0",
            "_view_name": "LayoutView",
            "align_content": null,
            "align_items": null,
            "align_self": null,
            "border": null,
            "bottom": null,
            "display": null,
            "flex": null,
            "flex_flow": null,
            "grid_area": null,
            "grid_auto_columns": null,
            "grid_auto_flow": null,
            "grid_auto_rows": null,
            "grid_column": null,
            "grid_gap": null,
            "grid_row": null,
            "grid_template_areas": null,
            "grid_template_columns": null,
            "grid_template_rows": null,
            "height": null,
            "justify_content": null,
            "justify_items": null,
            "left": null,
            "margin": null,
            "max_height": null,
            "max_width": null,
            "min_height": null,
            "min_width": null,
            "object_fit": null,
            "object_position": null,
            "order": null,
            "overflow": null,
            "overflow_x": null,
            "overflow_y": null,
            "padding": null,
            "right": null,
            "top": null,
            "visibility": null,
            "width": null
          }
        },
        "6222b91087164bda86775691fd07c786": {
          "model_module": "@jupyter-widgets/base",
          "model_name": "LayoutModel",
          "model_module_version": "1.2.0",
          "state": {
            "_model_module": "@jupyter-widgets/base",
            "_model_module_version": "1.2.0",
            "_model_name": "LayoutModel",
            "_view_count": null,
            "_view_module": "@jupyter-widgets/base",
            "_view_module_version": "1.2.0",
            "_view_name": "LayoutView",
            "align_content": null,
            "align_items": null,
            "align_self": null,
            "border": null,
            "bottom": null,
            "display": null,
            "flex": null,
            "flex_flow": null,
            "grid_area": null,
            "grid_auto_columns": null,
            "grid_auto_flow": null,
            "grid_auto_rows": null,
            "grid_column": null,
            "grid_gap": null,
            "grid_row": null,
            "grid_template_areas": null,
            "grid_template_columns": null,
            "grid_template_rows": null,
            "height": null,
            "justify_content": null,
            "justify_items": null,
            "left": null,
            "margin": null,
            "max_height": null,
            "max_width": null,
            "min_height": null,
            "min_width": null,
            "object_fit": null,
            "object_position": null,
            "order": null,
            "overflow": null,
            "overflow_x": null,
            "overflow_y": null,
            "padding": null,
            "right": null,
            "top": null,
            "visibility": null,
            "width": null
          }
        },
        "2c4ad09250a448cbb646694d9377f6b4": {
          "model_module": "@jupyter-widgets/controls",
          "model_name": "DescriptionStyleModel",
          "model_module_version": "1.5.0",
          "state": {
            "_model_module": "@jupyter-widgets/controls",
            "_model_module_version": "1.5.0",
            "_model_name": "DescriptionStyleModel",
            "_view_count": null,
            "_view_module": "@jupyter-widgets/base",
            "_view_module_version": "1.2.0",
            "_view_name": "StyleView",
            "description_width": ""
          }
        },
        "d76491067aed46fe9d1da58b13a46efa": {
          "model_module": "@jupyter-widgets/base",
          "model_name": "LayoutModel",
          "model_module_version": "1.2.0",
          "state": {
            "_model_module": "@jupyter-widgets/base",
            "_model_module_version": "1.2.0",
            "_model_name": "LayoutModel",
            "_view_count": null,
            "_view_module": "@jupyter-widgets/base",
            "_view_module_version": "1.2.0",
            "_view_name": "LayoutView",
            "align_content": null,
            "align_items": null,
            "align_self": null,
            "border": null,
            "bottom": null,
            "display": null,
            "flex": null,
            "flex_flow": null,
            "grid_area": null,
            "grid_auto_columns": null,
            "grid_auto_flow": null,
            "grid_auto_rows": null,
            "grid_column": null,
            "grid_gap": null,
            "grid_row": null,
            "grid_template_areas": null,
            "grid_template_columns": null,
            "grid_template_rows": null,
            "height": null,
            "justify_content": null,
            "justify_items": null,
            "left": null,
            "margin": null,
            "max_height": null,
            "max_width": null,
            "min_height": null,
            "min_width": null,
            "object_fit": null,
            "object_position": null,
            "order": null,
            "overflow": null,
            "overflow_x": null,
            "overflow_y": null,
            "padding": null,
            "right": null,
            "top": null,
            "visibility": null,
            "width": null
          }
        },
        "0ebbd20003b745908984064713e7a53f": {
          "model_module": "@jupyter-widgets/controls",
          "model_name": "ProgressStyleModel",
          "model_module_version": "1.5.0",
          "state": {
            "_model_module": "@jupyter-widgets/controls",
            "_model_module_version": "1.5.0",
            "_model_name": "ProgressStyleModel",
            "_view_count": null,
            "_view_module": "@jupyter-widgets/base",
            "_view_module_version": "1.2.0",
            "_view_name": "StyleView",
            "bar_color": null,
            "description_width": ""
          }
        },
        "a5ea2f34be9742fbb066e40661e5a582": {
          "model_module": "@jupyter-widgets/base",
          "model_name": "LayoutModel",
          "model_module_version": "1.2.0",
          "state": {
            "_model_module": "@jupyter-widgets/base",
            "_model_module_version": "1.2.0",
            "_model_name": "LayoutModel",
            "_view_count": null,
            "_view_module": "@jupyter-widgets/base",
            "_view_module_version": "1.2.0",
            "_view_name": "LayoutView",
            "align_content": null,
            "align_items": null,
            "align_self": null,
            "border": null,
            "bottom": null,
            "display": null,
            "flex": null,
            "flex_flow": null,
            "grid_area": null,
            "grid_auto_columns": null,
            "grid_auto_flow": null,
            "grid_auto_rows": null,
            "grid_column": null,
            "grid_gap": null,
            "grid_row": null,
            "grid_template_areas": null,
            "grid_template_columns": null,
            "grid_template_rows": null,
            "height": null,
            "justify_content": null,
            "justify_items": null,
            "left": null,
            "margin": null,
            "max_height": null,
            "max_width": null,
            "min_height": null,
            "min_width": null,
            "object_fit": null,
            "object_position": null,
            "order": null,
            "overflow": null,
            "overflow_x": null,
            "overflow_y": null,
            "padding": null,
            "right": null,
            "top": null,
            "visibility": null,
            "width": null
          }
        },
        "abf01dd528e240eaa8838474b3e8d6cb": {
          "model_module": "@jupyter-widgets/controls",
          "model_name": "DescriptionStyleModel",
          "model_module_version": "1.5.0",
          "state": {
            "_model_module": "@jupyter-widgets/controls",
            "_model_module_version": "1.5.0",
            "_model_name": "DescriptionStyleModel",
            "_view_count": null,
            "_view_module": "@jupyter-widgets/base",
            "_view_module_version": "1.2.0",
            "_view_name": "StyleView",
            "description_width": ""
          }
        }
      }
    }
  },
  "cells": [
    {
      "cell_type": "markdown",
      "metadata": {
        "id": "view-in-github",
        "colab_type": "text"
      },
      "source": [
        "<a href=\"https://colab.research.google.com/github/kaybrian/Mnist/blob/main/MNIST.ipynb\" target=\"_parent\"><img src=\"https://colab.research.google.com/assets/colab-badge.svg\" alt=\"Open In Colab\"/></a>"
      ]
    },
    {
      "cell_type": "code",
      "execution_count": 1,
      "metadata": {
        "id": "TTFn8Ugex7mm"
      },
      "outputs": [],
      "source": [
        "import pandas as pd\n",
        "import tensorflow as tf\n",
        "import tensorflow_datasets as tfds"
      ]
    },
    {
      "cell_type": "code",
      "source": [
        "BUFFER_SIZE = 70_000\n",
        "BATCH_SIZE = 128\n",
        "NUM_EPOCHS = 20"
      ],
      "metadata": {
        "id": "YfxZOOc_0nG6"
      },
      "execution_count": 2,
      "outputs": []
    },
    {
      "cell_type": "code",
      "source": [
        "mnist_dataset, mnist_info = tfds.load(name=\"mnist\", with_info=True, as_supervised=True)"
      ],
      "metadata": {
        "colab": {
          "base_uri": "https://localhost:8080/",
          "height": 106,
          "referenced_widgets": [
            "3c961863d5e749a8bf5f38e88d275e91",
            "ea2fe69b398248ee8420c1564f512a9c",
            "f93c6ae5c71a46faabed0812c88305cb",
            "6c7e48006a16433b9e931685e11e691e",
            "4deaa21793c1422695609c1d1999d59e",
            "6222b91087164bda86775691fd07c786",
            "2c4ad09250a448cbb646694d9377f6b4",
            "d76491067aed46fe9d1da58b13a46efa",
            "0ebbd20003b745908984064713e7a53f",
            "a5ea2f34be9742fbb066e40661e5a582",
            "abf01dd528e240eaa8838474b3e8d6cb"
          ]
        },
        "id": "zf42k8vR0zeC",
        "outputId": "6fa04365-b5e4-4743-929e-253f8a8f0bc8"
      },
      "execution_count": 3,
      "outputs": [
        {
          "output_type": "stream",
          "name": "stdout",
          "text": [
            "Downloading and preparing dataset 11.06 MiB (download: 11.06 MiB, generated: 21.00 MiB, total: 32.06 MiB) to /root/tensorflow_datasets/mnist/3.0.1...\n"
          ]
        },
        {
          "output_type": "display_data",
          "data": {
            "text/plain": [
              "Dl Completed...:   0%|          | 0/5 [00:00<?, ? file/s]"
            ],
            "application/vnd.jupyter.widget-view+json": {
              "version_major": 2,
              "version_minor": 0,
              "model_id": "3c961863d5e749a8bf5f38e88d275e91"
            }
          },
          "metadata": {}
        },
        {
          "output_type": "stream",
          "name": "stdout",
          "text": [
            "Dataset mnist downloaded and prepared to /root/tensorflow_datasets/mnist/3.0.1. Subsequent calls will reuse this data.\n"
          ]
        }
      ]
    },
    {
      "cell_type": "code",
      "source": [
        "print(mnist_dataset)"
      ],
      "metadata": {
        "colab": {
          "base_uri": "https://localhost:8080/"
        },
        "id": "Uksp-FUZ1eVS",
        "outputId": "b4b4bb39-690a-4cce-e6eb-c056d01c43f4"
      },
      "execution_count": 4,
      "outputs": [
        {
          "output_type": "stream",
          "name": "stdout",
          "text": [
            "{'test': <_PrefetchDataset element_spec=(TensorSpec(shape=(28, 28, 1), dtype=tf.uint8, name=None), TensorSpec(shape=(), dtype=tf.int64, name=None))>, 'train': <_PrefetchDataset element_spec=(TensorSpec(shape=(28, 28, 1), dtype=tf.uint8, name=None), TensorSpec(shape=(), dtype=tf.int64, name=None))>}\n"
          ]
        }
      ]
    },
    {
      "cell_type": "code",
      "source": [
        "mnist_train, mnist_test = mnist_dataset['train'], mnist_dataset['test']"
      ],
      "metadata": {
        "id": "qqjTzUDQ1kKS"
      },
      "execution_count": 5,
      "outputs": []
    },
    {
      "cell_type": "code",
      "source": [
        "def scale(image, label):\n",
        "  image = tf.cast(image, tf.float32)\n",
        "  image /= 255.\n",
        "\n",
        "  return image, label\n",
        "\n"
      ],
      "metadata": {
        "id": "6F3eyHOP1wUY"
      },
      "execution_count": 6,
      "outputs": []
    },
    {
      "cell_type": "code",
      "source": [
        "tain_validation_data = mnist_train.map(scale)\n",
        "test_data = mnist_test.map(scale)"
      ],
      "metadata": {
        "id": "mGOu_b772Hyd"
      },
      "execution_count": 7,
      "outputs": []
    },
    {
      "cell_type": "code",
      "source": [
        "num_validation_sample = 0.1 * mnist_info.splits['train'].num_examples\n",
        "num_validation_sample = tf.cast(num_validation_sample, tf.int64)"
      ],
      "metadata": {
        "id": "nWAmwHaQ2T6n"
      },
      "execution_count": 8,
      "outputs": []
    },
    {
      "cell_type": "code",
      "source": [
        "num_test_samples = mnist_info.splits['test'].num_examples\n",
        "num_test_samples = tf.cast(num_test_samples, tf.int64)"
      ],
      "metadata": {
        "id": "Ba90hXHc2vxX"
      },
      "execution_count": 10,
      "outputs": []
    },
    {
      "cell_type": "code",
      "source": [
        "tain_validation_data = tain_validation_data.shuffle(BUFFER_SIZE)"
      ],
      "metadata": {
        "id": "1IxHyKOS27aY"
      },
      "execution_count": 11,
      "outputs": []
    },
    {
      "cell_type": "code",
      "source": [
        "train_data = tain_validation_data.skip(num_validation_sample)\n",
        "validation_data = tain_validation_data.take(num_validation_sample)"
      ],
      "metadata": {
        "id": "Wq6ISKz13mnh"
      },
      "execution_count": 12,
      "outputs": []
    },
    {
      "cell_type": "code",
      "source": [
        "train_data = train_data.batch(BATCH_SIZE)\n",
        "validation_data = validation_data.batch(num_test_samples)\n",
        "test_data = test_data.batch(num_test_samples)"
      ],
      "metadata": {
        "id": "ZM0p3B4S35km"
      },
      "execution_count": 13,
      "outputs": []
    },
    {
      "cell_type": "code",
      "source": [],
      "metadata": {
        "id": "2GrnoLJV4diL"
      },
      "execution_count": null,
      "outputs": []
    },
    {
      "cell_type": "code",
      "source": [
        "model = tf.keras.Sequential([\n",
        "    tf.keras.layers.Conv2D(50, 5, activation=\"relu\", input_shape=(28, 28, 1)),\n",
        "    tf.keras.layers.MaxPool2D(pool_size=(2,2)),\n",
        "    tf.keras.layers.Conv2D(50, 3, activation=\"relu\"),\n",
        "    tf.keras.layers.MaxPool2D(pool_size=(2,2)),\n",
        "    tf.keras.layers.Flatten(),\n",
        "    tf.keras.layers.Dense(10)\n",
        "])"
      ],
      "metadata": {
        "id": "qBz78Zp54nUk"
      },
      "execution_count": 15,
      "outputs": []
    },
    {
      "cell_type": "code",
      "source": [
        "model.summary(line_length=74)"
      ],
      "metadata": {
        "colab": {
          "base_uri": "https://localhost:8080/"
        },
        "id": "OaZ3spYg5cpi",
        "outputId": "4004b35e-1ff7-4a08-b0da-c11ecdbe5597"
      },
      "execution_count": 16,
      "outputs": [
        {
          "output_type": "stream",
          "name": "stdout",
          "text": [
            "Model: \"sequential\"\n",
            "__________________________________________________________________________\n",
            " Layer (type)                    Output Shape                 Param #     \n",
            "==========================================================================\n",
            " conv2d_2 (Conv2D)               (None, 24, 24, 50)           1300        \n",
            "                                                                          \n",
            " max_pooling2d_2 (MaxPooling2D)  (None, 12, 12, 50)           0           \n",
            "                                                                          \n",
            " conv2d_3 (Conv2D)               (None, 10, 10, 50)           22550       \n",
            "                                                                          \n",
            " max_pooling2d_3 (MaxPooling2D)  (None, 5, 5, 50)             0           \n",
            "                                                                          \n",
            " flatten (Flatten)               (None, 1250)                 0           \n",
            "                                                                          \n",
            " dense (Dense)                   (None, 10)                   12510       \n",
            "                                                                          \n",
            "==========================================================================\n",
            "Total params: 36360 (142.03 KB)\n",
            "Trainable params: 36360 (142.03 KB)\n",
            "Non-trainable params: 0 (0.00 Byte)\n",
            "__________________________________________________________________________\n"
          ]
        }
      ]
    },
    {
      "cell_type": "code",
      "source": [
        "loss_fn = tf.keras.losses.SparseCategoricalCrossentropy(from_logits=True)"
      ],
      "metadata": {
        "id": "-reQOexp5lBt"
      },
      "execution_count": 24,
      "outputs": []
    },
    {
      "cell_type": "code",
      "source": [
        "model.compile(optimizer='adam', loss=loss_fn, metrics=['accuracy'])"
      ],
      "metadata": {
        "id": "sbu54s_39Jfl"
      },
      "execution_count": 25,
      "outputs": []
    },
    {
      "cell_type": "markdown",
      "source": [],
      "metadata": {
        "id": "51uutiMZ_DQQ"
      }
    },
    {
      "cell_type": "code",
      "source": [
        "early_spotting = tf.keras.callbacks.EarlyStopping(\n",
        "    monitor=\"val_loss\",\n",
        "    mode=\"auto\",\n",
        "    min_delta = 0,\n",
        "    patience=2,\n",
        "    verbose=0,\n",
        "    restore_best_weights = True\n",
        ")"
      ],
      "metadata": {
        "id": "TrOX6RHK9kDm"
      },
      "execution_count": 26,
      "outputs": []
    },
    {
      "cell_type": "code",
      "source": [
        "model.fit(\n",
        "    train_data,\n",
        "    epochs=NUM_EPOCHS,\n",
        "    callbacks=[early_spotting],\n",
        "    validation_data = validation_data,\n",
        "    verbose=2\n",
        ")"
      ],
      "metadata": {
        "colab": {
          "base_uri": "https://localhost:8080/"
        },
        "id": "QN0ZrQ1C-F64",
        "outputId": "8bbafa75-bbfa-4d4d-ba82-56e5698bbe1e"
      },
      "execution_count": 27,
      "outputs": [
        {
          "output_type": "stream",
          "name": "stdout",
          "text": [
            "Epoch 1/20\n",
            "422/422 - 60s - loss: 0.2660 - accuracy: 0.9223 - val_loss: 0.0881 - val_accuracy: 0.9725 - 60s/epoch - 143ms/step\n",
            "Epoch 2/20\n",
            "422/422 - 56s - loss: 0.0745 - accuracy: 0.9776 - val_loss: 0.0518 - val_accuracy: 0.9837 - 56s/epoch - 133ms/step\n",
            "Epoch 3/20\n",
            "422/422 - 56s - loss: 0.0547 - accuracy: 0.9841 - val_loss: 0.0449 - val_accuracy: 0.9848 - 56s/epoch - 133ms/step\n",
            "Epoch 4/20\n",
            "422/422 - 56s - loss: 0.0462 - accuracy: 0.9864 - val_loss: 0.0411 - val_accuracy: 0.9873 - 56s/epoch - 132ms/step\n",
            "Epoch 5/20\n",
            "422/422 - 56s - loss: 0.0383 - accuracy: 0.9883 - val_loss: 0.0356 - val_accuracy: 0.9900 - 56s/epoch - 133ms/step\n",
            "Epoch 6/20\n",
            "422/422 - 55s - loss: 0.0327 - accuracy: 0.9896 - val_loss: 0.0292 - val_accuracy: 0.9903 - 55s/epoch - 129ms/step\n",
            "Epoch 7/20\n",
            "422/422 - 57s - loss: 0.0292 - accuracy: 0.9910 - val_loss: 0.0341 - val_accuracy: 0.9885 - 57s/epoch - 135ms/step\n",
            "Epoch 8/20\n",
            "422/422 - 56s - loss: 0.0239 - accuracy: 0.9922 - val_loss: 0.0174 - val_accuracy: 0.9945 - 56s/epoch - 132ms/step\n",
            "Epoch 9/20\n",
            "422/422 - 55s - loss: 0.0216 - accuracy: 0.9933 - val_loss: 0.0153 - val_accuracy: 0.9953 - 55s/epoch - 130ms/step\n",
            "Epoch 10/20\n",
            "422/422 - 56s - loss: 0.0197 - accuracy: 0.9937 - val_loss: 0.0168 - val_accuracy: 0.9957 - 56s/epoch - 132ms/step\n",
            "Epoch 11/20\n",
            "422/422 - 56s - loss: 0.0183 - accuracy: 0.9943 - val_loss: 0.0163 - val_accuracy: 0.9948 - 56s/epoch - 132ms/step\n"
          ]
        },
        {
          "output_type": "execute_result",
          "data": {
            "text/plain": [
              "<keras.src.callbacks.History at 0x7db33b88cdc0>"
            ]
          },
          "metadata": {},
          "execution_count": 27
        }
      ]
    },
    {
      "cell_type": "code",
      "source": [
        "# testing the model.\n",
        "test_loss, test_accuracy = model.evaluate(test_data)"
      ],
      "metadata": {
        "colab": {
          "base_uri": "https://localhost:8080/"
        },
        "id": "hyAZHu8cCS7M",
        "outputId": "c30a58b0-fac9-4fe5-bc4d-3fc16388644a"
      },
      "execution_count": 30,
      "outputs": [
        {
          "output_type": "stream",
          "name": "stdout",
          "text": [
            "1/1 [==============================] - 4s 4s/step - loss: 0.0280 - accuracy: 0.9913\n"
          ]
        }
      ]
    },
    {
      "cell_type": "code",
      "source": [
        "\n",
        "print(f'Test loss: {test_loss* 100:.4f}% and Test Acuracy: {test_accuracy* 100:.4f}')"
      ],
      "metadata": {
        "colab": {
          "base_uri": "https://localhost:8080/"
        },
        "id": "pZh2s2hzDdOP",
        "outputId": "a85aa5bb-4955-4c65-dd4d-cf5c0e9c9d83"
      },
      "execution_count": 33,
      "outputs": [
        {
          "output_type": "stream",
          "name": "stdout",
          "text": [
            "Test loss: 2.8014% and Test Acuracy: 99.1300\n"
          ]
        }
      ]
    },
    {
      "cell_type": "code",
      "source": [
        "# plotting the results now"
      ],
      "metadata": {
        "id": "jv65EvLkD9Qk"
      },
      "execution_count": 34,
      "outputs": []
    },
    {
      "cell_type": "code",
      "source": [
        "import matplotlib.pyplot as plt\n",
        "import numpy as np\n"
      ],
      "metadata": {
        "id": "PSTBwqNAEQGE"
      },
      "execution_count": 35,
      "outputs": []
    },
    {
      "cell_type": "code",
      "source": [
        "for images, labels in test_data.take(1):\n",
        "  images_test = images.numpy()\n",
        "  labels_test = labels.numpy()\n",
        "\n",
        "images_plot = np.reshape(images_test, (10000, 28, 28))\n"
      ],
      "metadata": {
        "id": "xcFX03IAEZVH"
      },
      "execution_count": 36,
      "outputs": []
    },
    {
      "cell_type": "code",
      "source": [
        "i = 2\n",
        "plt.figure(figsize=(2,2))\n",
        "plt.axis('off')\n",
        "plt.imshow(images_plot[i-1], cmap=\"gray\", aspect=\"auto\")\n",
        "plt.show()\n",
        "\n",
        "# print the label\n",
        "print(f'label : {labels_test[i-1]}')"
      ],
      "metadata": {
        "colab": {
          "base_uri": "https://localhost:8080/",
          "height": 209
        },
        "id": "UBneYM47E0f6",
        "outputId": "5b976538-2d3e-45b0-b8a0-ffcb262701b6"
      },
      "execution_count": 51,
      "outputs": [
        {
          "output_type": "display_data",
          "data": {
            "text/plain": [
              "<Figure size 200x200 with 1 Axes>"
            ],
            "image/png": "[encoded data removed]"
          },
          "metadata": {}
        },
        {
          "output_type": "stream",
          "name": "stdout",
          "text": [
            "label : 0\n"
          ]
        }
      ]
    },
    {
      "cell_type": "code",
      "source": [
        "#  model predictions\n",
        "predictions = model.predict(images_test[i-1: i])\n",
        "print(predictions)\n",
        "\n",
        "probabilities = tf.nn.softmax(predictions).numpy()\n",
        "\n",
        "probabilities = probabilities * 100\n",
        "\n",
        "plt.figure(figsize=(12,5))\n",
        "\n",
        "plt.bar(x=[1,2,3,4,5,6,7,8,9,10], height=probabilities[0], tick_label=['1','2','3','4','5','6','7','8','9','10'])"
      ],
      "metadata": {
        "colab": {
          "base_uri": "https://localhost:8080/",
          "height": 518
        },
        "id": "6tAdMUyFGAhX",
        "outputId": "899aad40-35e7-4c6a-a729-773aeb249ca1"
      },
      "execution_count": 57,
      "outputs": [
        {
          "output_type": "stream",
          "name": "stdout",
          "text": [
            "1/1 [==============================] - 0s 26ms/step\n",
            "[[ 17.93839    -26.759165     2.9891367  -18.86996    -28.331121\n",
            "   -1.8924025    1.8962777  -13.272929     0.19126134  -1.508679  ]]\n"
          ]
        },
        {
          "output_type": "execute_result",
          "data": {
            "text/plain": [
              "<BarContainer object of 10 artists>"
            ]
          },
          "metadata": {},
          "execution_count": 57
        },
        {
          "output_type": "display_data",
          "data": {
            "text/plain": [
              "<Figure size 1200x500 with 1 Axes>"
            ],
            "image/png": "[encoded data removed]"
          },
          "metadata": {}
        }
      ]
    },
    {
      "cell_type": "code",
      "source": [],
      "metadata": {
        "id": "K86BROP1Gznh"
      },
      "execution_count": null,
      "outputs": []
    }
  ]
}